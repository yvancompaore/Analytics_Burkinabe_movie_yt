{
 "cells": [
  {
   "cell_type": "code",
   "execution_count": 51,
   "id": "52b6fed9",
   "metadata": {},
   "outputs": [],
   "source": [
    "#INITIALISATION DES PACKAGES\n",
    "\n",
    "from concurrent.futures import ThreadPoolExecutor, as_completed\n",
    "from selenium import webdriver\n",
    "from selenium.webdriver.firefox.service import Service as FirefoxService\n",
    "from webdriver_manager.firefox import GeckoDriverManager\n",
    "from selenium.webdriver.firefox.options import Options\n",
    "from selenium.webdriver.common.by import By\n",
    "from selenium.webdriver.support.ui import WebDriverWait\n",
    "from selenium.webdriver.support import expected_conditions as EC\n",
    "import time\n",
    "import os\n",
    "import re\n",
    "import pandas as pd\n",
    "\n",
    "\n",
    "\n",
    "# Chemin vers votre profil Firefox avec uBlock Origin installé\n",
    "firefox_profile_path = 'Entrer le chemin vers votre profil firefox avec un boquer de pub actif'"
   ]
  },
  {
   "cell_type": "code",
   "execution_count": 52,
   "id": "c2dbc84c",
   "metadata": {},
   "outputs": [],
   "source": [
    "#Fonction pour formater le nombre de vue\n",
    "def format_view_count(view_count_str):\n",
    "    # Utiliser une expression régulière pour extraire les chiffres et les regrouper\n",
    "    view_count_str = re.sub(r'\\D', '', view_count_str)\n",
    "    return f'{int(view_count_str):,}'.replace(',', ' ')\n"
   ]
  },
  {
   "cell_type": "code",
   "execution_count": 53,
   "id": "7c799411",
   "metadata": {},
   "outputs": [],
   "source": [
    "#Fonction pour initialiser le driver\n",
    "def init_driver():\n",
    "    firefox_options = webdriver.FirefoxOptions()\n",
    "    #Utilisation du profil car j'avais besoin d'un bloqueur de pub qui etait deja installé sur mon profil firefox\n",
    "    firefox_options.profile = firefox_profile_path\n",
    "    #firefox_options.add_argument(\"--headless\")  # Activer le mode headless pour améliorer les performances\n",
    "    driver = webdriver.Firefox(\n",
    "        service=FirefoxService(GeckoDriverManager().install()), \n",
    "        options=firefox_options\n",
    "    )\n",
    "    return driver\n",
    "\n"
   ]
  },
  {
   "cell_type": "code",
   "execution_count": 54,
   "id": "0a7554cf",
   "metadata": {},
   "outputs": [],
   "source": [
    "# Fonction pour scraper les informations d'une vidéo\n",
    "def scrape_video_info(url):\n",
    "    driver = init_driver()\n",
    "    video_info = {}\n",
    "   \n",
    "    \n",
    "    try:\n",
    "        driver.get(url)\n",
    "        \n",
    "        time.sleep(10)\n",
    "\n",
    "        WebDriverWait(driver, 15).until(\n",
    "            EC.visibility_of_element_located((By.CSS_SELECTOR, '#title h1 yt-formatted-string'))\n",
    "        )\n",
    "        \n",
    "        driver.find_element(By.ID, 'description-inline-expander').click()\n",
    "\n",
    "        # Récupérer le titre de la vidéo\n",
    "        video_info[\"url\"] = url\n",
    "        video_info[\"title\"] = driver.find_element(By.CSS_SELECTOR, '#title h1 yt-formatted-string').text.strip()\n",
    "\n",
    "        # Récupérer la durée de la vidéo\n",
    "        video_info[\"duration\"] = driver.find_element(By.CSS_SELECTOR, 'span.ytp-time-duration').text.strip()\n",
    "\n",
    "        # Récupérer le nombre de vues de la vidéo\n",
    "        view_count = driver.find_element(By.XPATH, '//*[@id=\"info\"]/span[1]').text.strip()\n",
    "        video_info[\"views\"] = format_view_count(view_count)\n",
    "        #video_info[\"views\"] = driver.find_element(By.XPATH, '//*[@id=\"info\"]/span[1]').text.strip()\n",
    "        \n",
    "        # Récupérer la date de publication de la vidéo\n",
    "        video_info[\"date\"] = driver.find_element(By.XPATH, '//*[@id=\"info\"]/span[3]').text.strip()\n",
    "\n",
    "        # Récupérer le nom de la chaîne\n",
    "        video_info[\"channel\"] = driver.find_element(By.XPATH, '//*[@id=\"text\"]/a').text.strip()\n",
    "\n",
    "        # Récupérer les likes de la vidéo\n",
    "        video_info[\"like\"] = driver.find_element(By.XPATH, '//*[@id=\"top-level-buttons-computed\"]/segmented-like-dislike-button-view-model/yt-smartimation/div/div/like-button-view-model/toggle-button-view-model/button-view-model/button/div[2]').text.strip()\n",
    "\n",
    "        # Récupérer la description de la vidéo\n",
    "        driver.find_element(By.ID, 'description-inline-expander').click()\n",
    "        video_info[\"description\"] = driver.find_element(By.XPATH, '//*[@id=\"description-inline-expander\"]/yt-attributed-string').text.strip()\n",
    "\n",
    "        #défiler pour charger les commentaires\n",
    "        driver.execute_script(\"window.scrollTo(0, 1000);\")\n",
    "        for i in range(8):\n",
    "            time.sleep(2)\n",
    "            driver.execute_script(\"window.scrollTo(0, 10000);\")\n",
    "\n",
    "        #récupéreration des commentaires\n",
    "        comment_elements = driver.find_elements(By.CSS_SELECTOR, '#content #content-text')\n",
    "        video_info[\"comments\"] = [comment.text for comment in comment_elements]\n",
    "\n",
    "    except Exception as e:\n",
    "        print(f'Erreur lors de l\\'extraction des informations de la vidéo {url}: {e}')\n",
    "    \n",
    "    finally:\n",
    "        if driver:\n",
    "            driver.quit()\n",
    "    \n",
    "    return video_info\n"
   ]
  },
  {
   "cell_type": "code",
   "execution_count": 41,
   "id": "018431c3",
   "metadata": {},
   "outputs": [
    {
     "data": {
      "text/plain": [
       "['https://www.youtube.com/watch?v=y_w8SG4W73M&pp=ygUPZmlsbSBidXJraW5hYsOp',\n",
       " 'https://www.youtube.com/watch?v=b8HZJ4Fflmg&pp=ygUMZmlsbSBidXJraW5h',\n",
       " 'https://www.youtube.com/watch?v=__KlsHPvod8&pp=ygUMZmlsbSBidXJraW5h',\n",
       " 'https://www.youtube.com/watch?v=K14yRkULJCk&pp=ygUPZmlsbSBidXJraW5hYsOp',\n",
       " 'https://www.youtube.com/watch?v=cJmnNtEEmiY&pp=ygUXZmlsbSBjb21wbGV0IGJ1cmtpbmFiw6k%3D',\n",
       " 'https://www.youtube.com/watch?v=IXU7KUkfL5I&pp=ygUXZmlsbSBjb21wbGV0IGJ1cmtpbmFiw6k%3D',\n",
       " 'https://www.youtube.com/watch?v=PDZHQ5UnVes&pp=ygUXZmlsbSBjb21wbGV0IGJ1cmtpbmFiw6k%3D',\n",
       " 'https://www.youtube.com/watch?v=FS_pfQTL48w&pp=ygUXZmlsbSBjb21wbGV0IGJ1cmtpbmFiw6k%3D',\n",
       " 'https://www.youtube.com/watch?v=9zn0ynheLB4&pp=ygUPZmlsbSBidXJraW5hYsOp',\n",
       " 'https://www.youtube.com/watch?v=ulLNk6RAtdc&pp=ygUMZmlsbSBidXJraW5h',\n",
       " 'https://www.youtube.com/watch?v=5FUL8IiTuVU&pp=ygUPZmlsbSBidXJraW5hYsOp',\n",
       " 'https://www.youtube.com/watch?v=Ifw5KKNao2k&pp=ygUXZmlsbSBjb21wbGV0IGJ1cmtpbmFiw6k%3D',\n",
       " 'https://www.youtube.com/watch?v=E5s592wAP8M&pp=ygUPZmlsbSBidXJraW5hYsOp',\n",
       " 'https://www.youtube.com/watch?v=BrgHBzF1nug&pp=ygUPZmlsbSBidXJraW5hYsOp',\n",
       " 'https://www.youtube.com/watch?v=DcXjw5BvBu8&pp=ygUPZmlsbSBidXJraW5hYsOp',\n",
       " 'https://www.youtube.com/watch?v=WoSJAQNsXVo&pp=ygUMZmlsbSBidXJraW5h',\n",
       " 'https://www.youtube.com/watch?v=PIbE3jhRJ5A&pp=ygUMZmlsbSBidXJraW5h',\n",
       " 'https://www.youtube.com/watch?v=UNGrF2ST5CM&pp=ygUXZmlsbSBjb21wbGV0IGJ1cmtpbmFiw6k%3D',\n",
       " 'https://www.youtube.com/watch?v=63GPSUvmECU&pp=ygUPZmlsbSBidXJraW5hYsOp',\n",
       " 'https://www.youtube.com/watch?v=r3PJWRzU1_k&pp=ygUMZmlsbSBidXJraW5h',\n",
       " 'https://www.youtube.com/watch?v=gWuTcO2AlZs&pp=ygUXZmlsbSBjb21wbGV0IGJ1cmtpbmFiw6k%3D',\n",
       " 'https://www.youtube.com/watch?v=vlYroBhHhr0&pp=ygUPZmlsbSBidXJraW5hYsOp',\n",
       " 'https://www.youtube.com/watch?v=aZfKmaYvhkI&pp=ygUPZmlsbSBidXJraW5hYsOp',\n",
       " 'https://www.youtube.com/watch?v=tE-J5qo3sTU&pp=ygUPZmlsbSBidXJraW5hYsOp',\n",
       " 'https://www.youtube.com/watch?v=KI4Ud-EIPDs&pp=ygUMZmlsbSBidXJraW5h',\n",
       " 'https://www.youtube.com/watch?v=YiHMAvqTOBE&pp=ygUPZmlsbSBidXJraW5hYsOp',\n",
       " 'https://www.youtube.com/watch?v=G4QLf6a1s1o&pp=ygUMZmlsbSBidXJraW5h',\n",
       " 'https://www.youtube.com/watch?v=aMrogysR4uc&pp=ygUXZmlsbSBjb21wbGV0IGJ1cmtpbmFiw6k%3D',\n",
       " 'https://www.youtube.com/watch?v=i7S6jRAXUoM&pp=ygUPZmlsbSBidXJraW5hYsOp',\n",
       " 'https://www.youtube.com/watch?v=eSZdh8M-M6c&pp=ygUMZmlsbSBidXJraW5h',\n",
       " 'https://www.youtube.com/watch?v=cRRkXRxH7EY&pp=ygUMZmlsbSBidXJraW5h',\n",
       " 'https://www.youtube.com/watch?v=AJtr084tOjs&pp=ygUMZmlsbSBidXJraW5h',\n",
       " 'https://www.youtube.com/watch?v=cZc77XTSncY&pp=ygUPZmlsbSBidXJraW5hYsOp',\n",
       " 'https://www.youtube.com/watch?v=pKR_eq8WnLw&pp=ygUMZmlsbSBidXJraW5h',\n",
       " 'https://www.youtube.com/watch?v=VlQtvk3UF1Q&pp=ygUPZmlsbSBidXJraW5hYsOp',\n",
       " 'https://www.youtube.com/watch?v=WerfPjhARpA&pp=ygUXZmlsbSBjb21wbGV0IGJ1cmtpbmFiw6k%3D',\n",
       " 'https://www.youtube.com/watch?v=PbPTM1yQEyE&pp=ygUXZmlsbSBjb21wbGV0IGJ1cmtpbmFiw6k%3D',\n",
       " 'https://www.youtube.com/watch?v=Ifw5KKNao2k&pp=ygUPZmlsbSBidXJraW5hYsOp',\n",
       " 'https://www.youtube.com/watch?v=-bU-YPitn5s&pp=ygUMZmlsbSBidXJraW5h',\n",
       " 'https://www.youtube.com/watch?v=d-v3lXrSxnw&pp=ygUPZmlsbSBidXJraW5hYsOp',\n",
       " 'https://www.youtube.com/watch?v=USM9I2azO7k&pp=ygUXZmlsbSBjb21wbGV0IGJ1cmtpbmFiw6k%3D',\n",
       " 'https://www.youtube.com/watch?v=TvmLkoVlZT0&pp=ygUXZmlsbSBjb21wbGV0IGJ1cmtpbmFiw6k%3D',\n",
       " 'https://www.youtube.com/watch?v=rulSiWjbxL8&pp=ygUXZmlsbSBjb21wbGV0IGJ1cmtpbmFiw6k%3D',\n",
       " 'https://www.youtube.com/watch?v=6TWwywsjcNg&pp=ygUXZmlsbSBjb21wbGV0IGJ1cmtpbmFiw6k%3D',\n",
       " 'https://www.youtube.com/watch?v=aDnaQlCEIFI&pp=ygUMZmlsbSBidXJraW5h',\n",
       " 'https://www.youtube.com/watch?v=o6VOjJ4h8Bc&pp=ygUXZmlsbSBjb21wbGV0IGJ1cmtpbmFiw6k%3D',\n",
       " 'https://www.youtube.com/watch?v=8nR2mGGquRE&pp=ygUPZmlsbSBidXJraW5hYsOp',\n",
       " 'https://www.youtube.com/watch?v=qj8mLu1Z5Pk&pp=ygUMZmlsbSBidXJraW5h',\n",
       " 'https://www.youtube.com/watch?v=OZUgibd3HYw&pp=ygUPZmlsbSBidXJraW5hYsOp',\n",
       " 'https://www.youtube.com/watch?v=b8HZJ4Fflmg&pp=ygUXZmlsbSBjb21wbGV0IGJ1cmtpbmFiw6k%3D',\n",
       " 'https://www.youtube.com/watch?v=mY4LeZ1Kv-o&pp=ygUMZmlsbSBidXJraW5h',\n",
       " 'https://www.youtube.com/watch?v=Iw8OjKNsTHk&pp=ygUXZmlsbSBjb21wbGV0IGJ1cmtpbmFiw6k%3D',\n",
       " 'https://www.youtube.com/watch?v=mIxdjA41rwE&pp=ygUMZmlsbSBidXJraW5h',\n",
       " 'https://www.youtube.com/watch?v=RKo0WODWpWM&pp=ygUPZmlsbSBidXJraW5hYsOp',\n",
       " 'https://www.youtube.com/watch?v=RKo0WODWpWM&pp=ygUMZmlsbSBidXJraW5h',\n",
       " 'https://www.youtube.com/watch?v=GjUerMKmdkU&pp=ygUXZmlsbSBjb21wbGV0IGJ1cmtpbmFiw6k%3D',\n",
       " 'https://www.youtube.com/watch?v=9gSWr8HqNqo&pp=ygUXZmlsbSBjb21wbGV0IGJ1cmtpbmFiw6k%3D',\n",
       " 'https://www.youtube.com/watch?v=Zacir0dgzio&pp=ygUPZmlsbSBidXJraW5hYsOp',\n",
       " 'https://www.youtube.com/watch?v=YZS7WWDQug8&pp=ygUXZmlsbSBjb21wbGV0IGJ1cmtpbmFiw6k%3D',\n",
       " 'https://www.youtube.com/watch?v=FquRHS9IecY&pp=ygUPZmlsbSBidXJraW5hYsOp',\n",
       " 'https://www.youtube.com/watch?v=hiqP4iVm0I8&pp=ygUXZmlsbSBjb21wbGV0IGJ1cmtpbmFiw6k%3D',\n",
       " 'https://www.youtube.com/watch?v=WBX1LsiF2EY&pp=ygUXZmlsbSBjb21wbGV0IGJ1cmtpbmFiw6k%3D',\n",
       " 'https://www.youtube.com/watch?v=l5CJiangZZM&pp=ygUXZmlsbSBjb21wbGV0IGJ1cmtpbmFiw6k%3D',\n",
       " 'https://www.youtube.com/watch?v=b8HZJ4Fflmg&pp=ygUPZmlsbSBidXJraW5hYsOp',\n",
       " 'https://www.youtube.com/watch?v=YiHMAvqTOBE&pp=ygUXZmlsbSBjb21wbGV0IGJ1cmtpbmFiw6k%3D',\n",
       " 'https://www.youtube.com/watch?v=kYwVcgQWZ38&pp=ygUXZmlsbSBjb21wbGV0IGJ1cmtpbmFiw6k%3D',\n",
       " 'https://www.youtube.com/watch?v=pXd15N2D3Us&pp=ygUMZmlsbSBidXJraW5h',\n",
       " 'https://www.youtube.com/watch?v=Oylq1uBIj9U&pp=ygUMZmlsbSBidXJraW5h',\n",
       " 'https://www.youtube.com/watch?v=PE0_VLky3jQ&pp=ygUMZmlsbSBidXJraW5h',\n",
       " 'https://www.youtube.com/watch?v=MMpyt_CJ0PI&pp=ygUMZmlsbSBidXJraW5h',\n",
       " 'https://www.youtube.com/watch?v=QhU5VMAS-qQ&pp=ygUPZmlsbSBidXJraW5hYsOp',\n",
       " 'https://www.youtube.com/watch?v=i7M4BGeZnf0&pp=ygUXZmlsbSBjb21wbGV0IGJ1cmtpbmFiw6k%3D',\n",
       " 'https://www.youtube.com/watch?v=Ifw5KKNao2k&pp=ygUMZmlsbSBidXJraW5h',\n",
       " 'https://www.youtube.com/watch?v=nflQbmt82qo&pp=ygUMZmlsbSBidXJraW5h',\n",
       " 'https://www.youtube.com/watch?v=U3l8NfJhOAw&pp=ygUXZmlsbSBjb21wbGV0IGJ1cmtpbmFiw6k%3D',\n",
       " 'https://www.youtube.com/watch?v=4xT4qV244Hw&pp=ygUMZmlsbSBidXJraW5h',\n",
       " 'https://www.youtube.com/watch?v=KL8IfGFQqj8&pp=ygUPZmlsbSBidXJraW5hYsOp',\n",
       " 'https://www.youtube.com/watch?v=9BcTpIa0E8o&pp=ygUMZmlsbSBidXJraW5h',\n",
       " 'https://www.youtube.com/watch?v=Rrr3hHeZ2CY&pp=ygUXZmlsbSBjb21wbGV0IGJ1cmtpbmFiw6k%3D',\n",
       " 'https://www.youtube.com/watch?v=81BrHog3SHo&pp=ygUPZmlsbSBidXJraW5hYsOp',\n",
       " 'https://www.youtube.com/watch?v=SG0xoZYlCgI&pp=ygUXZmlsbSBjb21wbGV0IGJ1cmtpbmFiw6k%3D',\n",
       " 'https://www.youtube.com/watch?v=u4ydGeQJjQQ&pp=ygUPZmlsbSBidXJraW5hYsOp',\n",
       " 'https://www.youtube.com/watch?v=KajZzoNVI0E&pp=ygUMZmlsbSBidXJraW5h',\n",
       " 'https://www.youtube.com/watch?v=6GZDmqFUx-A&pp=ygUPZmlsbSBidXJraW5hYsOp',\n",
       " 'https://www.youtube.com/watch?v=rDfgwFZCfz8&pp=ygUXZmlsbSBjb21wbGV0IGJ1cmtpbmFiw6k%3D',\n",
       " 'https://www.youtube.com/watch?v=luQF2_HQQiQ&pp=ygUPZmlsbSBidXJraW5hYsOp',\n",
       " 'https://www.youtube.com/watch?v=pKR_eq8WnLw&pp=ygUPZmlsbSBidXJraW5hYsOp',\n",
       " 'https://www.youtube.com/watch?v=Lz1AcAF-oXI&pp=ygUPZmlsbSBidXJraW5hYsOp',\n",
       " 'https://www.youtube.com/watch?v=9eaFj5qDRys&pp=ygUXZmlsbSBjb21wbGV0IGJ1cmtpbmFiw6k%3D',\n",
       " 'https://www.youtube.com/watch?v=lgAXiBI-dgo&pp=ygUMZmlsbSBidXJraW5h',\n",
       " 'https://www.youtube.com/watch?v=OtWMzTP22EU&pp=ygUXZmlsbSBjb21wbGV0IGJ1cmtpbmFiw6k%3D',\n",
       " 'https://www.youtube.com/watch?v=TteAz7ICTFI&pp=ygUMZmlsbSBidXJraW5h',\n",
       " 'https://www.youtube.com/watch?v=BiCKOyh3-v4&pp=ygUMZmlsbSBidXJraW5h',\n",
       " 'https://www.youtube.com/watch?v=5CoKQhhaMbI&pp=ygUXZmlsbSBjb21wbGV0IGJ1cmtpbmFiw6k%3D',\n",
       " 'https://www.youtube.com/watch?v=_BB666fw5iM&pp=ygUMZmlsbSBidXJraW5h',\n",
       " 'https://www.youtube.com/watch?v=A9e8hMo6VPc&pp=ygUPZmlsbSBidXJraW5hYsOp',\n",
       " 'https://www.youtube.com/watch?v=XEeZc63iF-Y&pp=ygUMZmlsbSBidXJraW5h',\n",
       " 'https://www.youtube.com/watch?v=tW_dBMOrHoQ&pp=ygUXZmlsbSBjb21wbGV0IGJ1cmtpbmFiw6k%3D',\n",
       " 'https://www.youtube.com/watch?v=1rFDglnUa1Q&pp=ygUXZmlsbSBjb21wbGV0IGJ1cmtpbmFiw6k%3D',\n",
       " 'https://www.youtube.com/watch?v=09ANfpOsd7Y&pp=ygUPZmlsbSBidXJraW5hYsOp']"
      ]
     },
     "execution_count": 41,
     "metadata": {},
     "output_type": "execute_result"
    }
   ],
   "source": [
    "urls_imported = pd.read_json('urls_with_null_duration.json', orient='values')\n",
    "\n",
    "# Conversion des valeurs en liste\n",
    "all_video_urls = urls_imported[0].tolist()\n",
    "\n",
    "all_video_urls"
   ]
  },
  {
   "cell_type": "code",
   "execution_count": 45,
   "id": "99681206",
   "metadata": {
    "scrolled": true
   },
   "outputs": [
    {
     "data": {
      "text/plain": [
       "100"
      ]
     },
     "execution_count": 45,
     "metadata": {},
     "output_type": "execute_result"
    }
   ],
   "source": [
    "#Suppression doublon\n",
    "all_video_urls_unique = list(set(all_video_urls))\n",
    "len(all_video_urls_unique)"
   ]
  },
  {
   "cell_type": "code",
   "execution_count": 46,
   "id": "00564772",
   "metadata": {},
   "outputs": [],
   "source": [
    "def split_list(input_list, chunk_size):\n",
    "    #création des sous-listes de taille chunk_size\n",
    "    return [input_list[i:i + chunk_size] for i in range(0, len(input_list), chunk_size)]\n",
    "\n",
    "# Diviser la liste en sous-listes de 100 éléments\n",
    "chunked_lists = split_list(all_video_urls_unique, 100)"
   ]
  },
  {
   "cell_type": "code",
   "execution_count": 47,
   "id": "8481291a",
   "metadata": {},
   "outputs": [],
   "source": [
    "videos_data = []"
   ]
  },
  {
   "cell_type": "code",
   "execution_count": 48,
   "id": "840ab7fa",
   "metadata": {},
   "outputs": [
    {
     "name": "stdout",
     "output_type": "stream",
     "text": [
      "0\n"
     ]
    }
   ],
   "source": [
    "for i in range(0,len(chunked_lists)) :\n",
    "    with ThreadPoolExecutor(max_workers=10) as executor:\n",
    "        # Démarrer les tâches et récupérer les futures\n",
    "        futures = [executor.submit(scrape_video_info, url) for url in chunked_lists[i]]\n",
    "\n",
    "        # Attendre que toutes les tâches soient terminées\n",
    "        for future in as_completed(futures):\n",
    "            try:\n",
    "                video_info = future.result()\n",
    "                # Traiter les informations récupérées (par exemple, stocker dans une base de données)\n",
    "                #print(\"toto\")\n",
    "                #print(video_info)\n",
    "                videos_data.append(video_info)\n",
    "            except Exception as exc:\n",
    "                print(f'Une erreur s\\'est produite : {exc}')\n",
    "    print(i)           \n",
    "    time.sleep(10)"
   ]
  },
  {
   "cell_type": "code",
   "execution_count": 49,
   "id": "cae3afba",
   "metadata": {},
   "outputs": [
    {
     "data": {
      "text/plain": [
       "100"
      ]
     },
     "execution_count": 49,
     "metadata": {},
     "output_type": "execute_result"
    }
   ],
   "source": [
    "len(videos_data)"
   ]
  },
  {
   "cell_type": "code",
   "execution_count": 50,
   "id": "01515ad9",
   "metadata": {},
   "outputs": [
    {
     "name": "stdout",
     "output_type": "stream",
     "text": [
      "https://www.youtube.com/watch?v=6TWwywsjcNg&pp=ygUXZmlsbSBjb21wbGV0IGJ1cmtpbmFiw6k%3D\n",
      "https://www.youtube.com/watch?v=l5CJiangZZM&pp=ygUXZmlsbSBjb21wbGV0IGJ1cmtpbmFiw6k%3D\n",
      "https://www.youtube.com/watch?v=luQF2_HQQiQ&pp=ygUPZmlsbSBidXJraW5hYsOp\n",
      "https://www.youtube.com/watch?v=b8HZJ4Fflmg&pp=ygUXZmlsbSBjb21wbGV0IGJ1cmtpbmFiw6k%3D\n",
      "https://www.youtube.com/watch?v=RKo0WODWpWM&pp=ygUPZmlsbSBidXJraW5hYsOp\n",
      "https://www.youtube.com/watch?v=BiCKOyh3-v4&pp=ygUMZmlsbSBidXJraW5h\n",
      "https://www.youtube.com/watch?v=__KlsHPvod8&pp=ygUMZmlsbSBidXJraW5h\n",
      "https://www.youtube.com/watch?v=i7M4BGeZnf0&pp=ygUXZmlsbSBjb21wbGV0IGJ1cmtpbmFiw6k%3D\n",
      "https://www.youtube.com/watch?v=hiqP4iVm0I8&pp=ygUXZmlsbSBjb21wbGV0IGJ1cmtpbmFiw6k%3D\n",
      "https://www.youtube.com/watch?v=b8HZJ4Fflmg&pp=ygUMZmlsbSBidXJraW5h\n",
      "https://www.youtube.com/watch?v=8nR2mGGquRE&pp=ygUPZmlsbSBidXJraW5hYsOp\n",
      "https://www.youtube.com/watch?v=81BrHog3SHo&pp=ygUPZmlsbSBidXJraW5hYsOp\n",
      "https://www.youtube.com/watch?v=pKR_eq8WnLw&pp=ygUPZmlsbSBidXJraW5hYsOp\n",
      "https://www.youtube.com/watch?v=gWuTcO2AlZs&pp=ygUXZmlsbSBjb21wbGV0IGJ1cmtpbmFiw6k%3D\n",
      "https://www.youtube.com/watch?v=b8HZJ4Fflmg&pp=ygUPZmlsbSBidXJraW5hYsOp\n",
      "https://www.youtube.com/watch?v=Ifw5KKNao2k&pp=ygUPZmlsbSBidXJraW5hYsOp\n",
      "https://www.youtube.com/watch?v=YiHMAvqTOBE&pp=ygUXZmlsbSBjb21wbGV0IGJ1cmtpbmFiw6k%3D\n",
      "https://www.youtube.com/watch?v=tW_dBMOrHoQ&pp=ygUXZmlsbSBjb21wbGV0IGJ1cmtpbmFiw6k%3D\n",
      "https://www.youtube.com/watch?v=aZfKmaYvhkI&pp=ygUPZmlsbSBidXJraW5hYsOp\n",
      "https://www.youtube.com/watch?v=rDfgwFZCfz8&pp=ygUXZmlsbSBjb21wbGV0IGJ1cmtpbmFiw6k%3D\n",
      "https://www.youtube.com/watch?v=cRRkXRxH7EY&pp=ygUMZmlsbSBidXJraW5h\n",
      "https://www.youtube.com/watch?v=Ifw5KKNao2k&pp=ygUMZmlsbSBidXJraW5h\n",
      "https://www.youtube.com/watch?v=YiHMAvqTOBE&pp=ygUPZmlsbSBidXJraW5hYsOp\n",
      "https://www.youtube.com/watch?v=Ifw5KKNao2k&pp=ygUXZmlsbSBjb21wbGV0IGJ1cmtpbmFiw6k%3D\n",
      "https://www.youtube.com/watch?v=pKR_eq8WnLw&pp=ygUMZmlsbSBidXJraW5h\n"
     ]
    }
   ],
   "source": [
    "otherfil =[]\n",
    "for i in videos_data :\n",
    "    if i[\"duration\"] == '' :\n",
    "        otherfil.append(i[\"url\"])\n",
    "        print(i[\"url\"])\n",
    "        "
   ]
  },
  {
   "cell_type": "code",
   "execution_count": 30,
   "id": "7a67a4b0",
   "metadata": {},
   "outputs": [
    {
     "data": {
      "text/plain": [
       "34"
      ]
     },
     "execution_count": 30,
     "metadata": {},
     "output_type": "execute_result"
    }
   ],
   "source": [
    "len(otherfil)"
   ]
  },
  {
   "cell_type": "code",
   "execution_count": 35,
   "id": "db434065",
   "metadata": {},
   "outputs": [
    {
     "data": {
      "text/plain": [
       "['https://www.youtube.com/watch?v=FquRHS9IecY&pp=ygUPZmlsbSBidXJraW5hYsOp',\n",
       " 'https://www.youtube.com/watch?v=9zn0ynheLB4&pp=ygUPZmlsbSBidXJraW5hYsOp',\n",
       " 'https://www.youtube.com/watch?v=-bU-YPitn5s&pp=ygUMZmlsbSBidXJraW5h',\n",
       " 'https://www.youtube.com/watch?v=G4QLf6a1s1o&pp=ygUMZmlsbSBidXJraW5h',\n",
       " 'https://www.youtube.com/watch?v=WoSJAQNsXVo&pp=ygUMZmlsbSBidXJraW5h',\n",
       " 'https://www.youtube.com/watch?v=BiCKOyh3-v4&pp=ygUMZmlsbSBidXJraW5h',\n",
       " 'https://www.youtube.com/watch?v=__KlsHPvod8&pp=ygUMZmlsbSBidXJraW5h',\n",
       " 'https://www.youtube.com/watch?v=hiqP4iVm0I8&pp=ygUXZmlsbSBjb21wbGV0IGJ1cmtpbmFiw6k%3D',\n",
       " 'https://www.youtube.com/watch?v=i7M4BGeZnf0&pp=ygUXZmlsbSBjb21wbGV0IGJ1cmtpbmFiw6k%3D',\n",
       " 'https://www.youtube.com/watch?v=QhU5VMAS-qQ&pp=ygUPZmlsbSBidXJraW5hYsOp',\n",
       " 'https://www.youtube.com/watch?v=WerfPjhARpA&pp=ygUXZmlsbSBjb21wbGV0IGJ1cmtpbmFiw6k%3D',\n",
       " 'https://www.youtube.com/watch?v=vlYroBhHhr0&pp=ygUPZmlsbSBidXJraW5hYsOp',\n",
       " 'https://www.youtube.com/watch?v=UNGrF2ST5CM&pp=ygUXZmlsbSBjb21wbGV0IGJ1cmtpbmFiw6k%3D',\n",
       " 'https://www.youtube.com/watch?v=b8HZJ4Fflmg&pp=ygUMZmlsbSBidXJraW5h',\n",
       " 'https://www.youtube.com/watch?v=9gSWr8HqNqo&pp=ygUXZmlsbSBjb21wbGV0IGJ1cmtpbmFiw6k%3D',\n",
       " 'https://www.youtube.com/watch?v=81BrHog3SHo&pp=ygUPZmlsbSBidXJraW5hYsOp',\n",
       " 'https://www.youtube.com/watch?v=pKR_eq8WnLw&pp=ygUPZmlsbSBidXJraW5hYsOp',\n",
       " 'https://www.youtube.com/watch?v=IXU7KUkfL5I&pp=ygUXZmlsbSBjb21wbGV0IGJ1cmtpbmFiw6k%3D',\n",
       " 'https://www.youtube.com/watch?v=gWuTcO2AlZs&pp=ygUXZmlsbSBjb21wbGV0IGJ1cmtpbmFiw6k%3D',\n",
       " 'https://www.youtube.com/watch?v=b8HZJ4Fflmg&pp=ygUPZmlsbSBidXJraW5hYsOp',\n",
       " 'https://www.youtube.com/watch?v=4xT4qV244Hw&pp=ygUMZmlsbSBidXJraW5h',\n",
       " 'https://www.youtube.com/watch?v=Ifw5KKNao2k&pp=ygUPZmlsbSBidXJraW5hYsOp',\n",
       " 'https://www.youtube.com/watch?v=YiHMAvqTOBE&pp=ygUXZmlsbSBjb21wbGV0IGJ1cmtpbmFiw6k%3D',\n",
       " 'https://www.youtube.com/watch?v=tW_dBMOrHoQ&pp=ygUXZmlsbSBjb21wbGV0IGJ1cmtpbmFiw6k%3D',\n",
       " 'https://www.youtube.com/watch?v=USM9I2azO7k&pp=ygUXZmlsbSBjb21wbGV0IGJ1cmtpbmFiw6k%3D',\n",
       " 'https://www.youtube.com/watch?v=u4ydGeQJjQQ&pp=ygUPZmlsbSBidXJraW5hYsOp',\n",
       " 'https://www.youtube.com/watch?v=aZfKmaYvhkI&pp=ygUPZmlsbSBidXJraW5hYsOp',\n",
       " 'https://www.youtube.com/watch?v=rDfgwFZCfz8&pp=ygUXZmlsbSBjb21wbGV0IGJ1cmtpbmFiw6k%3D',\n",
       " 'https://www.youtube.com/watch?v=cRRkXRxH7EY&pp=ygUMZmlsbSBidXJraW5h',\n",
       " 'https://www.youtube.com/watch?v=Ifw5KKNao2k&pp=ygUMZmlsbSBidXJraW5h',\n",
       " 'https://www.youtube.com/watch?v=PbPTM1yQEyE&pp=ygUXZmlsbSBjb21wbGV0IGJ1cmtpbmFiw6k%3D',\n",
       " 'https://www.youtube.com/watch?v=YiHMAvqTOBE&pp=ygUPZmlsbSBidXJraW5hYsOp',\n",
       " 'https://www.youtube.com/watch?v=pKR_eq8WnLw&pp=ygUMZmlsbSBidXJraW5h',\n",
       " 'https://www.youtube.com/watch?v=Ifw5KKNao2k&pp=ygUXZmlsbSBjb21wbGV0IGJ1cmtpbmFiw6k%3D']"
      ]
     },
     "execution_count": 35,
     "metadata": {},
     "output_type": "execute_result"
    }
   ],
   "source": [
    "otherfil"
   ]
  },
  {
   "cell_type": "code",
   "execution_count": 36,
   "id": "ad18546a",
   "metadata": {},
   "outputs": [
    {
     "name": "stdout",
     "output_type": "stream",
     "text": [
      "0\n"
     ]
    }
   ],
   "source": [
    "# Diviser la liste en sous-listes de 100 éléments\n",
    "chunked_lists = split_list(otherfil, 100)\n",
    "\n",
    "\n",
    "for i in range(0,len(chunked_lists)) :\n",
    "    with ThreadPoolExecutor(max_workers=10) as executor:\n",
    "        # Démarrer les tâches et récupérer les futures\n",
    "        futures = [executor.submit(scrape_video_info, url) for url in chunked_lists[i]]\n",
    "\n",
    "        # Attendre que toutes les tâches soient terminées\n",
    "        for future in as_completed(futures):\n",
    "            try:\n",
    "                video_info = future.result()\n",
    "                # Traiter les informations récupérées (par exemple, stocker dans une base de données)\n",
    "                #print(\"toto\")\n",
    "                #print(video_info)\n",
    "                videos_data.append(video_info)\n",
    "            except Exception as exc:\n",
    "                print(f'Une erreur s\\'est produite : {exc}')\n",
    "    print(i)           \n",
    "    time.sleep(10)"
   ]
  },
  {
   "cell_type": "code",
   "execution_count": 39,
   "id": "72892817",
   "metadata": {},
   "outputs": [
    {
     "data": {
      "text/plain": [
       "127"
      ]
     },
     "execution_count": 39,
     "metadata": {},
     "output_type": "execute_result"
    }
   ],
   "source": [
    "len(videos_data)"
   ]
  },
  {
   "cell_type": "code",
   "execution_count": null,
   "id": "4014d033",
   "metadata": {},
   "outputs": [],
   "source": []
  }
 ],
 "metadata": {
  "kernelspec": {
   "display_name": "Python 3 (ipykernel)",
   "language": "python",
   "name": "python3"
  },
  "language_info": {
   "codemirror_mode": {
    "name": "ipython",
    "version": 3
   },
   "file_extension": ".py",
   "mimetype": "text/x-python",
   "name": "python",
   "nbconvert_exporter": "python",
   "pygments_lexer": "ipython3",
   "version": "3.11.5"
  }
 },
 "nbformat": 4,
 "nbformat_minor": 5
}
