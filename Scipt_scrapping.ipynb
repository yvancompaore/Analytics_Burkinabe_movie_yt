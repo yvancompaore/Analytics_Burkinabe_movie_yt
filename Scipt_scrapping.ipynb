{
 "cells": [
  {
   "cell_type": "markdown",
   "id": "ace5f5aa",
   "metadata": {},
   "source": [
    "<div style=\"text-align: center;\">\n",
    "\n",
    "# SCRIPT POUR LE SCRAPPING DE VIDEO YOUTUBE (FILMS BURKINBE ) \n",
    "\n",
    "## SOLLYWOOD - Partie 1 (SCRAPPING)\n",
    "    \n",
    "<div style=\"display: inline-block; text-align: center; margin-top: 20px;\">\n",
    "    <div style=\"display: inline-block; margin-right: 20px;\">\n",
    "        <img src=\"https://www.guru.com/blog/wp-content/uploads/2022/06/legal-to-scrape-data-from-websites.jpg\" alt=\"Image 1\" style=\"width: 250px; height: auto;\">\n",
    "    </div>\n",
    "    <div style=\"display: inline-block;\">\n",
    "        <img src=\"https://scontent-cdg4-2.xx.fbcdn.net/v/t39.30808-6/368609641_620973146817213_2768711167502916787_n.jpg?_nc_cat=107&ccb=1-7&_nc_sid=833d8c&_nc_ohc=jFnyq5UjCCQQ7kNvgE0pDOt&_nc_ht=scontent-cdg4-2.xx&oh=00_AYDkfpr-909u0Aqf9F8j8qK__VwG770C5fidpqo5CTE-xQ&oe=6696527F\" alt=\"Image 2\" style=\"width: 250px; height: auto;\">\n",
    "    </div>\n",
    "</div>\n",
    "\n",
    "</div>"
   ]
  },
  {
   "cell_type": "markdown",
   "id": "c3dfe5f2",
   "metadata": {},
   "source": [
    "## Contexte\n",
    "Ayant pour projet de lancer une plateforme de streaming de films burkinabé, il me fallait avoir une vision globale sur l'état du cinéma burkinabé, son audience, etc. Pour cela, je devais obtenir des données à ce sujet. Ne sachant pas qui contacter pour obtenir ces données et étant Data Engineer de formation, j'ai décidé de créer cette base de données moi-même afin de l'étudier et de la partager avec tous ceux qui en ont besoin.\n",
    "\n",
    "## Collecte de Données\n",
    "Pour obtenir des données, quoi de mieux que YouTube, où de nombreux films burkinabé sont disponibles (illégalement ou légalement). C'était pour moi l'occasion de me faire une idée de l'audience.\n",
    "\n",
    "### Étape 1 : Scrapping des Vidéos\n",
    "Pour étudier ces films, j'ai pris en compte les informations suivantes :\n",
    "* **Le Titre**\n",
    "* **La Durée**\n",
    "* **Le Nombre de Vues**\n",
    "* **Le Nombre de Likes**\n",
    "* **La Description**\n",
    "* **Les Commentaires**\n",
    "\n",
    "### Pourquoi les Commentaires ?\n",
    "L'étude des commentaires me permettra d'avoir le ressenti des internautes sur le film.\n"
   ]
  },
  {
   "cell_type": "code",
   "execution_count": 1,
   "id": "04dd486b",
   "metadata": {},
   "outputs": [],
   "source": [
    "#INITIALISATION DES PACKAGES\n",
    "\n",
    "from concurrent.futures import ThreadPoolExecutor, as_completed\n",
    "from selenium import webdriver\n",
    "from selenium.webdriver.firefox.service import Service as FirefoxService\n",
    "from webdriver_manager.firefox import GeckoDriverManager\n",
    "from selenium.webdriver.firefox.options import Options\n",
    "from selenium.webdriver.common.by import By\n",
    "from selenium.webdriver.support.ui import WebDriverWait\n",
    "from selenium.webdriver.support import expected_conditions as EC\n",
    "import time\n",
    "import os\n",
    "import re\n",
    "\n",
    "\n",
    "# Chemin vers votre profil Firefox avec uBlock Origin installé\n",
    "firefox_profile_path = 'Entrer le chemin vers votre profil firefox avec un boquer de pub actif'"
   ]
  },
  {
   "cell_type": "code",
   "execution_count": 2,
   "id": "b98ca85f",
   "metadata": {},
   "outputs": [],
   "source": [
    "#Fonction pour formater le nombre de vue\n",
    "def format_view_count(view_count_str):\n",
    "    # Utiliser une expression régulière pour extraire les chiffres et les regrouper\n",
    "    view_count_str = re.sub(r'\\D', '', view_count_str)\n",
    "    return f'{int(view_count_str):,}'.replace(',', ' ')\n"
   ]
  },
  {
   "cell_type": "code",
   "execution_count": 3,
   "id": "323e4c91",
   "metadata": {},
   "outputs": [],
   "source": [
    "#Fonction pour initialiser le driver\n",
    "def init_driver():\n",
    "    firefox_options = webdriver.FirefoxOptions()\n",
    "    #Utilisation du profil car j'avais besoin d'un bloqueur de pub qui etait deja installé sur mon profil firefox\n",
    "    firefox_options.profile = firefox_profile_path\n",
    "    #firefox_options.add_argument(\"--headless\")  # Activer le mode headless pour améliorer les performances\n",
    "    driver = webdriver.Firefox(\n",
    "        service=FirefoxService(GeckoDriverManager().install()), \n",
    "        options=firefox_options\n",
    "    )\n",
    "    return driver\n",
    "\n"
   ]
  },
  {
   "cell_type": "code",
   "execution_count": 4,
   "id": "603afd49",
   "metadata": {},
   "outputs": [],
   "source": [
    "#Fonction pour recuperer les urls des videos\n",
    "def get_video_urls(driver, scroll_pause_time=2, max_scrolls=5000, max_urls=5000):\n",
    "    video_urls =[]\n",
    "    # Attendre que la page se charge\n",
    "    time.sleep(5)\n",
    "    # Maximiser la fenêtre du navigateur\n",
    "    driver.maximize_window()\n",
    "    time.sleep(2)\n",
    "    last_height = driver.execute_script(\"return document.documentElement.scrollHeight\")\n",
    "    scrolls = 0\n",
    "    urls_collected = 0\n",
    "    \n",
    "    while scrolls < max_scrolls and urls_collected < max_urls:\n",
    "        driver.execute_script(\"window.scrollTo(0, document.documentElement.scrollHeight);\")\n",
    "        time.sleep(scroll_pause_time)\n",
    "        \n",
    "        video_links = driver.find_elements(By.XPATH, '//*[@id=\"video-title\"]')\n",
    "        new_urls = [link.get_attribute('href') for link in video_links]\n",
    "        new_urls = list(filter(None, new_urls))  # Remove any None values\n",
    "        \n",
    "        for url in new_urls:\n",
    "            if urls_collected < max_urls:\n",
    "                video_urls.append(url)\n",
    "                urls_collected += 1\n",
    "            else:\n",
    "                break\n",
    "        \n",
    "        last_height = driver.execute_script(\"return document.documentElement.scrollHeight\")\n",
    "        scrolls += 1\n",
    "        \n",
    "    return video_urls\n",
    "     "
   ]
  },
  {
   "cell_type": "code",
   "execution_count": 5,
   "id": "4d21e96e",
   "metadata": {},
   "outputs": [],
   "source": [
    "# Fonction pour scraper les informations d'une vidéo\n",
    "def scrape_video_info(url):\n",
    "    driver = init_driver()\n",
    "    video_info = {}\n",
    "   \n",
    "    \n",
    "    try:\n",
    "        driver.get(url)\n",
    "        \n",
    "        time.sleep(10)\n",
    "\n",
    "        WebDriverWait(driver, 15).until(\n",
    "            EC.visibility_of_element_located((By.CSS_SELECTOR, '#title h1 yt-formatted-string'))\n",
    "        )\n",
    "        \n",
    "        driver.find_element(By.ID, 'description-inline-expander').click()\n",
    "\n",
    "        # Récupérer le titre de la vidéo\n",
    "        video_info[\"url\"] = url\n",
    "        video_info[\"title\"] = driver.find_element(By.CSS_SELECTOR, '#title h1 yt-formatted-string').text.strip()\n",
    "\n",
    "        # Récupérer la durée de la vidéo\n",
    "        video_info[\"duration\"] = driver.find_element(By.CSS_SELECTOR, 'span.ytp-time-duration').text.strip()\n",
    "\n",
    "        # Récupérer le nombre de vues de la vidéo\n",
    "        view_count = driver.find_element(By.XPATH, '//*[@id=\"info\"]/span[1]').text.strip()\n",
    "        video_info[\"views\"] = format_view_count(view_count)\n",
    "        #video_info[\"views\"] = driver.find_element(By.XPATH, '//*[@id=\"info\"]/span[1]').text.strip()\n",
    "        \n",
    "        # Récupérer la date de publication de la vidéo\n",
    "        video_info[\"date\"] = driver.find_element(By.XPATH, '//*[@id=\"info\"]/span[3]').text.strip()\n",
    "\n",
    "        # Récupérer le nom de la chaîne\n",
    "        video_info[\"channel\"] = driver.find_element(By.XPATH, '//*[@id=\"text\"]/a').text.strip()\n",
    "\n",
    "        # Récupérer les likes de la vidéo\n",
    "        video_info[\"like\"] = driver.find_element(By.XPATH, '//*[@id=\"top-level-buttons-computed\"]/segmented-like-dislike-button-view-model/yt-smartimation/div/div/like-button-view-model/toggle-button-view-model/button-view-model/button/div[2]').text.strip()\n",
    "\n",
    "        # Récupérer la description de la vidéo\n",
    "        driver.find_element(By.ID, 'description-inline-expander').click()\n",
    "        video_info[\"description\"] = driver.find_element(By.XPATH, '//*[@id=\"description-inline-expander\"]/yt-attributed-string').text.strip()\n",
    "\n",
    "        #défiler pour charger les commentaires\n",
    "        driver.execute_script(\"window.scrollTo(0, 1000);\")\n",
    "        for i in range(8):\n",
    "            time.sleep(2)\n",
    "            driver.execute_script(\"window.scrollTo(0, 10000);\")\n",
    "\n",
    "        #récupéreration des commentaires\n",
    "        comment_elements = driver.find_elements(By.CSS_SELECTOR, '#content #content-text')\n",
    "        video_info[\"comments\"] = [comment.text for comment in comment_elements]\n",
    "\n",
    "    except Exception as e:\n",
    "        print(f'Erreur lors de l\\'extraction des informations de la vidéo {url}: {e}')\n",
    "    \n",
    "    finally:\n",
    "        if driver:\n",
    "            driver.quit()\n",
    "    \n",
    "    return video_info\n"
   ]
  },
  {
   "cell_type": "markdown",
   "id": "71de4188",
   "metadata": {},
   "source": [
    "* J'ai fait ici le choix de ne scrapper les urls des videos a scrapper a partir de 3 recherches. \n",
    "* LSi vous voulez l'adapter a votre situation sur youtube entre votre recherche par exemple \"Film Français\" valider et ensuite recuperer le liens de la recherche et entre le dans playlist_urls"
   ]
  },
  {
   "cell_type": "code",
   "execution_count": 6,
   "id": "0486f2dd",
   "metadata": {},
   "outputs": [],
   "source": [
    "playlist_urls = [\n",
    "    'https://www.youtube.com/results?search_query=film+burkinab%C3%A9',\n",
    "    'https://www.youtube.com/results?search_query=film+complet+burkinab%C3%A9',\n",
    "    'https://www.youtube.com/results?search_query=film+burkina'\n",
    "    \n",
    "]\n",
    "\n",
    "# liste pour stocker toutes les URLs\n",
    "all_video_urls = []\n"
   ]
  },
  {
   "cell_type": "code",
   "execution_count": 7,
   "id": "18ae1ee1",
   "metadata": {},
   "outputs": [
    {
     "name": "stdout",
     "output_type": "stream",
     "text": [
      "video url bon\n"
     ]
    }
   ],
   "source": [
    "# Initialisation du le driver\n",
    "driver = init_driver()\n",
    "\n",
    "# Boucle pour parcourir chaque URL de la playlist\n",
    "for url in playlist_urls:\n",
    "    driver.get(url)\n",
    "    video_urls = get_video_urls(driver)\n",
    "    all_video_urls.extend(video_urls)\n",
    "\n",
    "driver.quit()\n",
    "\n",
    "\n",
    "print(\"video url bon\")"
   ]
  },
  {
   "cell_type": "code",
   "execution_count": 8,
   "id": "c427f392",
   "metadata": {
    "scrolled": true
   },
   "outputs": [
    {
     "data": {
      "text/plain": [
       "15000"
      ]
     },
     "execution_count": 8,
     "metadata": {},
     "output_type": "execute_result"
    }
   ],
   "source": [
    "len(all_video_urls)"
   ]
  },
  {
   "cell_type": "markdown",
   "id": "b9471dbc",
   "metadata": {},
   "source": [
    "* Il arrive qu'il y ait des doublons donc pour se rassurer on supprime"
   ]
  },
  {
   "cell_type": "code",
   "execution_count": 9,
   "id": "9a6ea9f4",
   "metadata": {},
   "outputs": [
    {
     "data": {
      "text/plain": [
       "1239"
      ]
     },
     "execution_count": 9,
     "metadata": {},
     "output_type": "execute_result"
    }
   ],
   "source": [
    "#Suppression doublon\n",
    "all_video_urls_unique = list(set(all_video_urls))\n",
    "len(all_video_urls_unique)"
   ]
  },
  {
   "cell_type": "markdown",
   "id": "b7043557",
   "metadata": {},
   "source": [
    "### Pour faciliter le traitement separe en paquet de 100"
   ]
  },
  {
   "cell_type": "code",
   "execution_count": 10,
   "id": "48021aa6",
   "metadata": {},
   "outputs": [],
   "source": [
    "def split_list(input_list, chunk_size):\n",
    "    #création des sous-listes de taille chunk_size\n",
    "    return [input_list[i:i + chunk_size] for i in range(0, len(input_list), chunk_size)]\n",
    "\n",
    "# Diviser la liste en sous-listes de 100 éléments\n",
    "chunked_lists = split_list(all_video_urls_unique, 100)"
   ]
  },
  {
   "cell_type": "code",
   "execution_count": 11,
   "id": "9729d312",
   "metadata": {},
   "outputs": [
    {
     "data": {
      "text/plain": [
       "'https://www.youtube.com/watch?v=6sBwJVaCvQE&pp=ygUXZmlsbSBjb21wbGV0IGJ1cmtpbmFiw6k%3D'"
      ]
     },
     "execution_count": 11,
     "metadata": {},
     "output_type": "execute_result"
    }
   ],
   "source": [
    "chunked_lists[0][99]"
   ]
  },
  {
   "cell_type": "code",
   "execution_count": 12,
   "id": "5bc0bcdc",
   "metadata": {},
   "outputs": [
    {
     "data": {
      "text/plain": [
       "'https://www.youtube.com/watch?v=551diBfP63Q&pp=ygUMZmlsbSBidXJraW5h'"
      ]
     },
     "execution_count": 12,
     "metadata": {},
     "output_type": "execute_result"
    }
   ],
   "source": [
    "chunked_lists[1][99]"
   ]
  },
  {
   "cell_type": "code",
   "execution_count": 13,
   "id": "03393a2c",
   "metadata": {},
   "outputs": [],
   "source": [
    "videos_data = []"
   ]
  },
  {
   "cell_type": "markdown",
   "id": "e11d9371",
   "metadata": {},
   "source": [
    "### J'ai decidé plus haut d'évoluer par paquet de 100 donc pour traiter ces paquet j'ai mis en place un système en parelelisme de 10 instances pour arriver a les traiter plus rapidement\n",
    "\n"
   ]
  },
  {
   "cell_type": "code",
   "execution_count": 33,
   "id": "8094ffe5",
   "metadata": {},
   "outputs": [
    {
     "name": "stdout",
     "output_type": "stream",
     "text": [
      "Erreur lors de l'extraction des informations de la vidéo https://www.youtube.com/shorts/tqykm81mrfk: Message: \n",
      "\n",
      "10\n",
      "Erreur lors de l'extraction des informations de la vidéo https://www.youtube.com/shorts/zRgjj9k7w3c: Message: \n",
      "\n",
      "Erreur lors de l'extraction des informations de la vidéo https://www.youtube.com/shorts/nzCUnWImZxI: Message: \n",
      "\n",
      "11\n",
      "12\n"
     ]
    }
   ],
   "source": [
    "for i in range(0,len(chunked_lists)) :\n",
    "    with ThreadPoolExecutor(max_workers=10) as executor:\n",
    "        # Démarrer les tâches et récupérer les futures\n",
    "        futures = [executor.submit(scrape_video_info, url) for url in chunked_lists[i]]\n",
    "\n",
    "        # Attendre que toutes les tâches soient terminées\n",
    "        for future in as_completed(futures):\n",
    "            try:\n",
    "                video_info = future.result()\n",
    "                # Traiter les informations récupérées (par exemple, stocker dans une base de données)\n",
    "                #print(\"toto\")\n",
    "                #print(video_info)\n",
    "                videos_data.append(video_info)\n",
    "            except Exception as exc:\n",
    "                print(f'Une erreur s\\'est produite : {exc}')\n",
    "    print(i)           \n",
    "    time.sleep(10)"
   ]
  },
  {
   "cell_type": "code",
   "execution_count": 34,
   "id": "866488aa",
   "metadata": {},
   "outputs": [
    {
     "data": {
      "text/plain": [
       "1239"
      ]
     },
     "execution_count": 34,
     "metadata": {},
     "output_type": "execute_result"
    }
   ],
   "source": [
    "len(videos_data)"
   ]
  },
  {
   "cell_type": "code",
   "execution_count": 35,
   "id": "ca8489e7",
   "metadata": {},
   "outputs": [
    {
     "data": {
      "text/plain": [
       "{'url': 'https://www.youtube.com/watch?v=551diBfP63Q&pp=ygUMZmlsbSBidXJraW5h',\n",
       " 'title': \"L'As du lycée - S01 - Episode 40\",\n",
       " 'duration': '12:09',\n",
       " 'views': '3 364 592',\n",
       " 'date': 'Sortie le 23 oct. 2020',\n",
       " 'channel': 'FasoFilms TV',\n",
       " 'like': '20 k',\n",
       " 'description': 'L’As du lycée \\nSaison 1 - Episode 40 : La révolte de Kouka\\nRéalisateur : Missa Hébié\\n\\nHumour # Argent # Pauvreté...',\n",
       " 'comments': []}"
      ]
     },
     "execution_count": 35,
     "metadata": {},
     "output_type": "execute_result"
    }
   ],
   "source": [
    "videos_data[199]"
   ]
  },
  {
   "cell_type": "code",
   "execution_count": 36,
   "id": "97456812",
   "metadata": {},
   "outputs": [
    {
     "data": {
      "text/html": [
       "<div>\n",
       "<style scoped>\n",
       "    .dataframe tbody tr th:only-of-type {\n",
       "        vertical-align: middle;\n",
       "    }\n",
       "\n",
       "    .dataframe tbody tr th {\n",
       "        vertical-align: top;\n",
       "    }\n",
       "\n",
       "    .dataframe thead th {\n",
       "        text-align: right;\n",
       "    }\n",
       "</style>\n",
       "<table border=\"1\" class=\"dataframe\">\n",
       "  <thead>\n",
       "    <tr style=\"text-align: right;\">\n",
       "      <th></th>\n",
       "      <th>url</th>\n",
       "      <th>title</th>\n",
       "      <th>duration</th>\n",
       "      <th>views</th>\n",
       "      <th>date</th>\n",
       "      <th>channel</th>\n",
       "      <th>like</th>\n",
       "      <th>description</th>\n",
       "      <th>comments</th>\n",
       "    </tr>\n",
       "  </thead>\n",
       "  <tbody>\n",
       "    <tr>\n",
       "      <th>0</th>\n",
       "      <td>https://www.youtube.com/watch?v=7egUxmcZJ2M&amp;pp...</td>\n",
       "      <td>La Vengeance de Moussa Koffe - Film Complet</td>\n",
       "      <td>1:15:46</td>\n",
       "      <td>999 349</td>\n",
       "      <td>10 sept. 2012</td>\n",
       "      <td>AfricaShows: 1ère chaîne de divertissement en ...</td>\n",
       "      <td>3,6 k</td>\n",
       "      <td>Rejoignez la communauté : http://bit.ly/PFvmXV...</td>\n",
       "      <td>[Qui est là après le décès de Koutoko \\nQu'All...</td>\n",
       "    </tr>\n",
       "    <tr>\n",
       "      <th>1</th>\n",
       "      <td>https://www.youtube.com/watch?v=Mu9YXOgF5zo&amp;pp...</td>\n",
       "      <td>Sondo 2 (film burkinabè)</td>\n",
       "      <td>1:44:33</td>\n",
       "      <td>32 018</td>\n",
       "      <td>Sortie le 11 avr. 2022</td>\n",
       "      <td>KAFMAN GROUP</td>\n",
       "      <td>458</td>\n",
       "      <td>un film réalise par Christian M. K. KAFO et pr...</td>\n",
       "      <td>[]</td>\n",
       "    </tr>\n",
       "    <tr>\n",
       "      <th>2</th>\n",
       "      <td>https://www.youtube.com/watch?v=0-mPPirjHok&amp;pp...</td>\n",
       "      <td>Film Burkinabe: une petite fille intelligente ...</td>\n",
       "      <td>0:34</td>\n",
       "      <td>1 540</td>\n",
       "      <td>25 avr. 2020</td>\n",
       "      <td>daksoum2007</td>\n",
       "      <td>5</td>\n",
       "      <td></td>\n",
       "      <td>[]</td>\n",
       "    </tr>\n",
       "    <tr>\n",
       "      <th>3</th>\n",
       "      <td>https://www.youtube.com/watch?v=Qe9ugTqVBqw&amp;pp...</td>\n",
       "      <td>Kato Kato</td>\n",
       "      <td>1:12:42</td>\n",
       "      <td>177 536</td>\n",
       "      <td>8 mai 2015</td>\n",
       "      <td>AfricaShows: 1ère chaîne de divertissement en ...</td>\n",
       "      <td>1 k</td>\n",
       "      <td>Rejoignez la communauté : http://bit.ly/PFvmXV...</td>\n",
       "      <td>[Ohh l'époque m mank la première fois q j'ai r...</td>\n",
       "    </tr>\n",
       "    <tr>\n",
       "      <th>4</th>\n",
       "      <td>https://www.youtube.com/watch?v=A8SdY35euXU&amp;pp...</td>\n",
       "      <td>capitaine Ibrahim Traoré sa dresse aux hommes ...</td>\n",
       "      <td>12:15</td>\n",
       "      <td>51 711</td>\n",
       "      <td>10 juil. 2024</td>\n",
       "      <td>ismael info</td>\n",
       "      <td>1\\n2\\n  k</td>\n",
       "      <td></td>\n",
       "      <td>[J'ai n'ai plus de mots pour vous, le présiden...</td>\n",
       "    </tr>\n",
       "    <tr>\n",
       "      <th>...</th>\n",
       "      <td>...</td>\n",
       "      <td>...</td>\n",
       "      <td>...</td>\n",
       "      <td>...</td>\n",
       "      <td>...</td>\n",
       "      <td>...</td>\n",
       "      <td>...</td>\n",
       "      <td>...</td>\n",
       "      <td>...</td>\n",
       "    </tr>\n",
       "    <tr>\n",
       "      <th>1234</th>\n",
       "      <td>https://www.youtube.com/watch?v=BIweQKIcOzw&amp;pp...</td>\n",
       "      <td>Commissariat de Tampy - S01- E01</td>\n",
       "      <td>20:00</td>\n",
       "      <td>1 223 276</td>\n",
       "      <td>Sortie le 29 mai 2020</td>\n",
       "      <td>FasoFilms TV</td>\n",
       "      <td>8 k</td>\n",
       "      <td>Commissariat de Tampy \\nSaison 1 - Episode 01 ...</td>\n",
       "      <td>[2024 qui est là 🇹🇬, On remerciera jamais asse...</td>\n",
       "    </tr>\n",
       "    <tr>\n",
       "      <th>1235</th>\n",
       "      <td>https://www.youtube.com/watch?v=mwWTdUuxsLA&amp;pp...</td>\n",
       "      <td>CRIME DU COEUR ! un film de Hounsou Euloge - F...</td>\n",
       "      <td>1:31:30</td>\n",
       "      <td>36 317</td>\n",
       "      <td>26 mai 2024</td>\n",
       "      <td>AFRICAKULTURE+ TV</td>\n",
       "      <td>275</td>\n",
       "      <td>► Abonne-toi à la chaine MAINTENANT c'est grat...</td>\n",
       "      <td>[Faudrait revoir la mise en scène de fiction  ...</td>\n",
       "    </tr>\n",
       "    <tr>\n",
       "      <th>1236</th>\n",
       "      <td>https://www.youtube.com/watch?v=l3NzwFftTO4&amp;pp...</td>\n",
       "      <td>Étalons : L'appel à la cohésion du Capitaine I...</td>\n",
       "      <td>9:09</td>\n",
       "      <td>152 491</td>\n",
       "      <td>7 juil. 2024</td>\n",
       "      <td>Faso7 TV</td>\n",
       "      <td>5,5 k</td>\n",
       "      <td>Un match de gala a opposé, le 29 juin 2024, l’...</td>\n",
       "      <td>[Je vous jalouses hein les burkinabè vous avez...</td>\n",
       "    </tr>\n",
       "    <tr>\n",
       "      <th>1237</th>\n",
       "      <td>https://www.youtube.com/watch?v=g4QTBcnL-zE&amp;pp...</td>\n",
       "      <td>POLYGAMIE D'UN HOMME PAUVRE - FILM COMPLET VER...</td>\n",
       "      <td>1:16:56</td>\n",
       "      <td>606 515</td>\n",
       "      <td>11 mars 2019</td>\n",
       "      <td>AfricaShows: 1ère chaîne de divertissement en ...</td>\n",
       "      <td>2,6 k</td>\n",
       "      <td>rejoignez la communauté : http://bit.ly/PFvmXV...</td>\n",
       "      <td>[Ses deux complets là ... ses deux complets ja...</td>\n",
       "    </tr>\n",
       "    <tr>\n",
       "      <th>1238</th>\n",
       "      <td>https://www.youtube.com/watch?v=09ANfpOsd7Y&amp;pp...</td>\n",
       "      <td>SS-DH Episode 34 Voyage fatal - BURKINA FASO</td>\n",
       "      <td></td>\n",
       "      <td>41 891</td>\n",
       "      <td>5 mars 2020</td>\n",
       "      <td>AfricaShows: 1ère chaîne de divertissement en ...</td>\n",
       "      <td>360</td>\n",
       "      <td>rejoignez la communauté : http://bit.ly/PFvmXV...</td>\n",
       "      <td>[13:49 thank you for this message, yes only wa...</td>\n",
       "    </tr>\n",
       "  </tbody>\n",
       "</table>\n",
       "<p>1239 rows × 9 columns</p>\n",
       "</div>"
      ],
      "text/plain": [
       "                                                    url  \\\n",
       "0     https://www.youtube.com/watch?v=7egUxmcZJ2M&pp...   \n",
       "1     https://www.youtube.com/watch?v=Mu9YXOgF5zo&pp...   \n",
       "2     https://www.youtube.com/watch?v=0-mPPirjHok&pp...   \n",
       "3     https://www.youtube.com/watch?v=Qe9ugTqVBqw&pp...   \n",
       "4     https://www.youtube.com/watch?v=A8SdY35euXU&pp...   \n",
       "...                                                 ...   \n",
       "1234  https://www.youtube.com/watch?v=BIweQKIcOzw&pp...   \n",
       "1235  https://www.youtube.com/watch?v=mwWTdUuxsLA&pp...   \n",
       "1236  https://www.youtube.com/watch?v=l3NzwFftTO4&pp...   \n",
       "1237  https://www.youtube.com/watch?v=g4QTBcnL-zE&pp...   \n",
       "1238  https://www.youtube.com/watch?v=09ANfpOsd7Y&pp...   \n",
       "\n",
       "                                                  title duration      views  \\\n",
       "0           La Vengeance de Moussa Koffe - Film Complet  1:15:46    999 349   \n",
       "1                              Sondo 2 (film burkinabè)  1:44:33     32 018   \n",
       "2     Film Burkinabe: une petite fille intelligente ...     0:34      1 540   \n",
       "3                                             Kato Kato  1:12:42    177 536   \n",
       "4     capitaine Ibrahim Traoré sa dresse aux hommes ...    12:15     51 711   \n",
       "...                                                 ...      ...        ...   \n",
       "1234                   Commissariat de Tampy - S01- E01    20:00  1 223 276   \n",
       "1235  CRIME DU COEUR ! un film de Hounsou Euloge - F...  1:31:30     36 317   \n",
       "1236  Étalons : L'appel à la cohésion du Capitaine I...     9:09    152 491   \n",
       "1237  POLYGAMIE D'UN HOMME PAUVRE - FILM COMPLET VER...  1:16:56    606 515   \n",
       "1238       SS-DH Episode 34 Voyage fatal - BURKINA FASO              41 891   \n",
       "\n",
       "                        date  \\\n",
       "0              10 sept. 2012   \n",
       "1     Sortie le 11 avr. 2022   \n",
       "2               25 avr. 2020   \n",
       "3                 8 mai 2015   \n",
       "4              10 juil. 2024   \n",
       "...                      ...   \n",
       "1234   Sortie le 29 mai 2020   \n",
       "1235             26 mai 2024   \n",
       "1236            7 juil. 2024   \n",
       "1237            11 mars 2019   \n",
       "1238             5 mars 2020   \n",
       "\n",
       "                                                channel       like  \\\n",
       "0     AfricaShows: 1ère chaîne de divertissement en ...      3,6 k   \n",
       "1                                          KAFMAN GROUP        458   \n",
       "2                                           daksoum2007          5   \n",
       "3     AfricaShows: 1ère chaîne de divertissement en ...        1 k   \n",
       "4                                           ismael info  1\\n2\\n  k   \n",
       "...                                                 ...        ...   \n",
       "1234                                       FasoFilms TV        8 k   \n",
       "1235                                  AFRICAKULTURE+ TV        275   \n",
       "1236                                           Faso7 TV      5,5 k   \n",
       "1237  AfricaShows: 1ère chaîne de divertissement en ...      2,6 k   \n",
       "1238  AfricaShows: 1ère chaîne de divertissement en ...        360   \n",
       "\n",
       "                                            description  \\\n",
       "0     Rejoignez la communauté : http://bit.ly/PFvmXV...   \n",
       "1     un film réalise par Christian M. K. KAFO et pr...   \n",
       "2                                                         \n",
       "3     Rejoignez la communauté : http://bit.ly/PFvmXV...   \n",
       "4                                                         \n",
       "...                                                 ...   \n",
       "1234  Commissariat de Tampy \\nSaison 1 - Episode 01 ...   \n",
       "1235  ► Abonne-toi à la chaine MAINTENANT c'est grat...   \n",
       "1236  Un match de gala a opposé, le 29 juin 2024, l’...   \n",
       "1237  rejoignez la communauté : http://bit.ly/PFvmXV...   \n",
       "1238  rejoignez la communauté : http://bit.ly/PFvmXV...   \n",
       "\n",
       "                                               comments  \n",
       "0     [Qui est là après le décès de Koutoko \\nQu'All...  \n",
       "1                                                    []  \n",
       "2                                                    []  \n",
       "3     [Ohh l'époque m mank la première fois q j'ai r...  \n",
       "4     [J'ai n'ai plus de mots pour vous, le présiden...  \n",
       "...                                                 ...  \n",
       "1234  [2024 qui est là 🇹🇬, On remerciera jamais asse...  \n",
       "1235  [Faudrait revoir la mise en scène de fiction  ...  \n",
       "1236  [Je vous jalouses hein les burkinabè vous avez...  \n",
       "1237  [Ses deux complets là ... ses deux complets ja...  \n",
       "1238  [13:49 thank you for this message, yes only wa...  \n",
       "\n",
       "[1239 rows x 9 columns]"
      ]
     },
     "execution_count": 36,
     "metadata": {},
     "output_type": "execute_result"
    }
   ],
   "source": [
    "#Creation de dataFrame\n",
    "import pandas as pd \n",
    "    \n",
    "df = pd.DataFrame(videos_data,columns=['url','title','duration','views','date','channel','like','description','comments'])\n",
    "df"
   ]
  },
  {
   "cell_type": "code",
   "execution_count": 37,
   "id": "9550b3a1",
   "metadata": {},
   "outputs": [
    {
     "name": "stdout",
     "output_type": "stream",
     "text": [
      "Les données des vidéos ont été exportées vers film_burkinabe_yt_.csv\n"
     ]
    }
   ],
   "source": [
    "# Exportation du DataFrame en fichier CSV\n",
    "csv_file_path = 'film_burkinabe_yt_.csv'\n",
    "df.to_csv(csv_file_path, index=False, encoding='utf-8')\n",
    "\n",
    "print(f'Les données des vidéos ont été exportées vers {csv_file_path}')"
   ]
  },
  {
   "cell_type": "code",
   "execution_count": null,
   "id": "7196652b",
   "metadata": {},
   "outputs": [],
   "source": []
  }
 ],
 "metadata": {
  "kernelspec": {
   "display_name": "Python 3 (ipykernel)",
   "language": "python",
   "name": "python3"
  },
  "language_info": {
   "codemirror_mode": {
    "name": "ipython",
    "version": 3
   },
   "file_extension": ".py",
   "mimetype": "text/x-python",
   "name": "python",
   "nbconvert_exporter": "python",
   "pygments_lexer": "ipython3",
   "version": "3.11.5"
  }
 },
 "nbformat": 4,
 "nbformat_minor": 5
}
